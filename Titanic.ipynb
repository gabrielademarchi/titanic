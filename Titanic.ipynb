{
 "cells": [
  {
   "cell_type": "markdown",
   "id": "c41a152a",
   "metadata": {},
   "source": [
    "## Titanic\n",
    "\n",
    "### Question and problem definition\n",
    "* On April 15, 1912, during her maiden voyage, the Titanic sank after colliding with an iceberg, killing 1502 out of 2224 passengers and crew. Translated 32% survival rate.\n",
    "* One of the reasons that the shipwreck led to such loss of life was that there were not enough lifeboats for the passengers and crew.\n",
    "* Although there was some element of luck involved in surviving the sinking, some groups of people were more likely to survive than others, such as women, children, and the upper-class."
   ]
  },
  {
   "cell_type": "markdown",
   "id": "dfa1702f",
   "metadata": {},
   "source": [
    "### Framework *AB6C*\n",
    "1. Aquire data\n",
    "2. Baseline\n",
    "      - .info() .describe() .head()  \n",
    "      - Missing data\n",
    "      - Value counts\n",
    "3. Correcting\n",
    "4. Completing\n",
    "5. Charting\n",
    "    -  Numeric Data:  \n",
    "        - Distributions \n",
    "        - Correlations\n",
    "        - Pivot table  \n",
    "    - Categorical Data:  \n",
    "        - Bar charts  \n",
    "        - Pivot table\n",
    "6. Creating\n",
    "7. Converting\n",
    "8. Comparing"
   ]
  },
  {
   "cell_type": "code",
   "execution_count": 79,
   "id": "a4bf259f",
   "metadata": {},
   "outputs": [],
   "source": [
    "# data analysis and wrangling\n",
    "import pandas as pd\n",
    "import numpy as np\n",
    "\n",
    "# visualization\n",
    "import matplotlib.pyplot as plt\n",
    "import seaborn as sns\n",
    "\n",
    "# machine learning\n",
    "import sklearn\n",
    "from sklearn.preprocessing import OneHotEncoder, LabelEncoder\n",
    "from sklearn.preprocessing import StandardScaler\n",
    "from sklearn.model_selection import cross_val_score\n",
    "from sklearn.naive_bayes import GaussianNB\n",
    "from sklearn.linear_model import LogisticRegression\n",
    "from sklearn import tree\n",
    "from sklearn.neighbors import KNeighborsClassifier\n",
    "from sklearn.ensemble import RandomForestClassifier\n",
    "from sklearn.svm import SVC\n",
    "\n",
    "pd.options.mode.chained_assignment = None  # default='warn'"
   ]
  },
  {
   "cell_type": "markdown",
   "id": "21016f19",
   "metadata": {},
   "source": [
    "### 1. Aquire Data"
   ]
  },
  {
   "cell_type": "code",
   "execution_count": 46,
   "id": "94fe5bc6",
   "metadata": {},
   "outputs": [],
   "source": [
    "# download\n",
    "training = pd.read_csv('./train.csv')\n",
    "test =  pd.read_csv('test.csv')\n",
    "\n",
    "# seperate\n",
    "training['train_test'] = 1\n",
    "test['train_test'] = 0\n"
   ]
  },
  {
   "cell_type": "markdown",
   "id": "35c76886",
   "metadata": {},
   "source": [
    "### 2. Baseline"
   ]
  },
  {
   "cell_type": "code",
   "execution_count": 47,
   "id": "3d2feb72",
   "metadata": {},
   "outputs": [
    {
     "name": "stdout",
     "output_type": "stream",
     "text": [
      "<class 'pandas.core.frame.DataFrame'>\n",
      "RangeIndex: 891 entries, 0 to 890\n",
      "Data columns (total 13 columns):\n",
      " #   Column       Non-Null Count  Dtype  \n",
      "---  ------       --------------  -----  \n",
      " 0   PassengerId  891 non-null    int64  \n",
      " 1   Survived     891 non-null    int64  \n",
      " 2   Pclass       891 non-null    int64  \n",
      " 3   Name         891 non-null    object \n",
      " 4   Sex          891 non-null    object \n",
      " 5   Age          714 non-null    float64\n",
      " 6   SibSp        891 non-null    int64  \n",
      " 7   Parch        891 non-null    int64  \n",
      " 8   Ticket       891 non-null    object \n",
      " 9   Fare         891 non-null    float64\n",
      " 10  Cabin        204 non-null    object \n",
      " 11  Embarked     889 non-null    object \n",
      " 12  train_test   891 non-null    int64  \n",
      "dtypes: float64(2), int64(6), object(5)\n",
      "memory usage: 90.6+ KB\n"
     ]
    }
   ],
   "source": [
    "training.info()"
   ]
  },
  {
   "cell_type": "markdown",
   "id": "d1e54256",
   "metadata": {},
   "source": [
    "- Age and Cabin have quite a few no-values"
   ]
  },
  {
   "cell_type": "code",
   "execution_count": 48,
   "id": "1d75536c",
   "metadata": {},
   "outputs": [
    {
     "data": {
      "text/html": [
       "<div>\n",
       "<style scoped>\n",
       "    .dataframe tbody tr th:only-of-type {\n",
       "        vertical-align: middle;\n",
       "    }\n",
       "\n",
       "    .dataframe tbody tr th {\n",
       "        vertical-align: top;\n",
       "    }\n",
       "\n",
       "    .dataframe thead th {\n",
       "        text-align: right;\n",
       "    }\n",
       "</style>\n",
       "<table border=\"1\" class=\"dataframe\">\n",
       "  <thead>\n",
       "    <tr style=\"text-align: right;\">\n",
       "      <th></th>\n",
       "      <th>PassengerId</th>\n",
       "      <th>Survived</th>\n",
       "      <th>Pclass</th>\n",
       "      <th>Age</th>\n",
       "      <th>SibSp</th>\n",
       "      <th>Parch</th>\n",
       "      <th>Fare</th>\n",
       "      <th>train_test</th>\n",
       "    </tr>\n",
       "  </thead>\n",
       "  <tbody>\n",
       "    <tr>\n",
       "      <th>count</th>\n",
       "      <td>891.000000</td>\n",
       "      <td>891.000000</td>\n",
       "      <td>891.000000</td>\n",
       "      <td>714.000000</td>\n",
       "      <td>891.000000</td>\n",
       "      <td>891.000000</td>\n",
       "      <td>891.000000</td>\n",
       "      <td>891.0</td>\n",
       "    </tr>\n",
       "    <tr>\n",
       "      <th>mean</th>\n",
       "      <td>446.000000</td>\n",
       "      <td>0.383838</td>\n",
       "      <td>2.308642</td>\n",
       "      <td>29.699118</td>\n",
       "      <td>0.523008</td>\n",
       "      <td>0.381594</td>\n",
       "      <td>32.204208</td>\n",
       "      <td>1.0</td>\n",
       "    </tr>\n",
       "    <tr>\n",
       "      <th>std</th>\n",
       "      <td>257.353842</td>\n",
       "      <td>0.486592</td>\n",
       "      <td>0.836071</td>\n",
       "      <td>14.526497</td>\n",
       "      <td>1.102743</td>\n",
       "      <td>0.806057</td>\n",
       "      <td>49.693429</td>\n",
       "      <td>0.0</td>\n",
       "    </tr>\n",
       "    <tr>\n",
       "      <th>min</th>\n",
       "      <td>1.000000</td>\n",
       "      <td>0.000000</td>\n",
       "      <td>1.000000</td>\n",
       "      <td>0.420000</td>\n",
       "      <td>0.000000</td>\n",
       "      <td>0.000000</td>\n",
       "      <td>0.000000</td>\n",
       "      <td>1.0</td>\n",
       "    </tr>\n",
       "    <tr>\n",
       "      <th>25%</th>\n",
       "      <td>223.500000</td>\n",
       "      <td>0.000000</td>\n",
       "      <td>2.000000</td>\n",
       "      <td>20.125000</td>\n",
       "      <td>0.000000</td>\n",
       "      <td>0.000000</td>\n",
       "      <td>7.910400</td>\n",
       "      <td>1.0</td>\n",
       "    </tr>\n",
       "    <tr>\n",
       "      <th>50%</th>\n",
       "      <td>446.000000</td>\n",
       "      <td>0.000000</td>\n",
       "      <td>3.000000</td>\n",
       "      <td>28.000000</td>\n",
       "      <td>0.000000</td>\n",
       "      <td>0.000000</td>\n",
       "      <td>14.454200</td>\n",
       "      <td>1.0</td>\n",
       "    </tr>\n",
       "    <tr>\n",
       "      <th>75%</th>\n",
       "      <td>668.500000</td>\n",
       "      <td>1.000000</td>\n",
       "      <td>3.000000</td>\n",
       "      <td>38.000000</td>\n",
       "      <td>1.000000</td>\n",
       "      <td>0.000000</td>\n",
       "      <td>31.000000</td>\n",
       "      <td>1.0</td>\n",
       "    </tr>\n",
       "    <tr>\n",
       "      <th>max</th>\n",
       "      <td>891.000000</td>\n",
       "      <td>1.000000</td>\n",
       "      <td>3.000000</td>\n",
       "      <td>80.000000</td>\n",
       "      <td>8.000000</td>\n",
       "      <td>6.000000</td>\n",
       "      <td>512.329200</td>\n",
       "      <td>1.0</td>\n",
       "    </tr>\n",
       "  </tbody>\n",
       "</table>\n",
       "</div>"
      ],
      "text/plain": [
       "       PassengerId    Survived      Pclass         Age       SibSp  \\\n",
       "count   891.000000  891.000000  891.000000  714.000000  891.000000   \n",
       "mean    446.000000    0.383838    2.308642   29.699118    0.523008   \n",
       "std     257.353842    0.486592    0.836071   14.526497    1.102743   \n",
       "min       1.000000    0.000000    1.000000    0.420000    0.000000   \n",
       "25%     223.500000    0.000000    2.000000   20.125000    0.000000   \n",
       "50%     446.000000    0.000000    3.000000   28.000000    0.000000   \n",
       "75%     668.500000    1.000000    3.000000   38.000000    1.000000   \n",
       "max     891.000000    1.000000    3.000000   80.000000    8.000000   \n",
       "\n",
       "            Parch        Fare  train_test  \n",
       "count  891.000000  891.000000       891.0  \n",
       "mean     0.381594   32.204208         1.0  \n",
       "std      0.806057   49.693429         0.0  \n",
       "min      0.000000    0.000000         1.0  \n",
       "25%      0.000000    7.910400         1.0  \n",
       "50%      0.000000   14.454200         1.0  \n",
       "75%      0.000000   31.000000         1.0  \n",
       "max      6.000000  512.329200         1.0  "
      ]
     },
     "execution_count": 48,
     "metadata": {},
     "output_type": "execute_result"
    }
   ],
   "source": [
    "training.describe()"
   ]
  },
  {
   "cell_type": "markdown",
   "id": "eca1e870",
   "metadata": {},
   "source": [
    "- 38% of the sample survived\n",
    "- The average age of the sample is 29"
   ]
  },
  {
   "cell_type": "code",
   "execution_count": 49,
   "id": "c1ce7ddd",
   "metadata": {},
   "outputs": [
    {
     "data": {
      "text/html": [
       "<div>\n",
       "<style scoped>\n",
       "    .dataframe tbody tr th:only-of-type {\n",
       "        vertical-align: middle;\n",
       "    }\n",
       "\n",
       "    .dataframe tbody tr th {\n",
       "        vertical-align: top;\n",
       "    }\n",
       "\n",
       "    .dataframe thead th {\n",
       "        text-align: right;\n",
       "    }\n",
       "</style>\n",
       "<table border=\"1\" class=\"dataframe\">\n",
       "  <thead>\n",
       "    <tr style=\"text-align: right;\">\n",
       "      <th></th>\n",
       "      <th>PassengerId</th>\n",
       "      <th>Survived</th>\n",
       "      <th>Pclass</th>\n",
       "      <th>Name</th>\n",
       "      <th>Sex</th>\n",
       "      <th>Age</th>\n",
       "      <th>SibSp</th>\n",
       "      <th>Parch</th>\n",
       "      <th>Ticket</th>\n",
       "      <th>Fare</th>\n",
       "      <th>Cabin</th>\n",
       "      <th>Embarked</th>\n",
       "      <th>train_test</th>\n",
       "    </tr>\n",
       "  </thead>\n",
       "  <tbody>\n",
       "    <tr>\n",
       "      <th>0</th>\n",
       "      <td>1</td>\n",
       "      <td>0</td>\n",
       "      <td>3</td>\n",
       "      <td>Braund, Mr. Owen Harris</td>\n",
       "      <td>male</td>\n",
       "      <td>22.0</td>\n",
       "      <td>1</td>\n",
       "      <td>0</td>\n",
       "      <td>A/5 21171</td>\n",
       "      <td>7.2500</td>\n",
       "      <td>NaN</td>\n",
       "      <td>S</td>\n",
       "      <td>1</td>\n",
       "    </tr>\n",
       "    <tr>\n",
       "      <th>1</th>\n",
       "      <td>2</td>\n",
       "      <td>1</td>\n",
       "      <td>1</td>\n",
       "      <td>Cumings, Mrs. John Bradley (Florence Briggs Th...</td>\n",
       "      <td>female</td>\n",
       "      <td>38.0</td>\n",
       "      <td>1</td>\n",
       "      <td>0</td>\n",
       "      <td>PC 17599</td>\n",
       "      <td>71.2833</td>\n",
       "      <td>C85</td>\n",
       "      <td>C</td>\n",
       "      <td>1</td>\n",
       "    </tr>\n",
       "    <tr>\n",
       "      <th>2</th>\n",
       "      <td>3</td>\n",
       "      <td>1</td>\n",
       "      <td>3</td>\n",
       "      <td>Heikkinen, Miss. Laina</td>\n",
       "      <td>female</td>\n",
       "      <td>26.0</td>\n",
       "      <td>0</td>\n",
       "      <td>0</td>\n",
       "      <td>STON/O2. 3101282</td>\n",
       "      <td>7.9250</td>\n",
       "      <td>NaN</td>\n",
       "      <td>S</td>\n",
       "      <td>1</td>\n",
       "    </tr>\n",
       "    <tr>\n",
       "      <th>3</th>\n",
       "      <td>4</td>\n",
       "      <td>1</td>\n",
       "      <td>1</td>\n",
       "      <td>Futrelle, Mrs. Jacques Heath (Lily May Peel)</td>\n",
       "      <td>female</td>\n",
       "      <td>35.0</td>\n",
       "      <td>1</td>\n",
       "      <td>0</td>\n",
       "      <td>113803</td>\n",
       "      <td>53.1000</td>\n",
       "      <td>C123</td>\n",
       "      <td>S</td>\n",
       "      <td>1</td>\n",
       "    </tr>\n",
       "    <tr>\n",
       "      <th>4</th>\n",
       "      <td>5</td>\n",
       "      <td>0</td>\n",
       "      <td>3</td>\n",
       "      <td>Allen, Mr. William Henry</td>\n",
       "      <td>male</td>\n",
       "      <td>35.0</td>\n",
       "      <td>0</td>\n",
       "      <td>0</td>\n",
       "      <td>373450</td>\n",
       "      <td>8.0500</td>\n",
       "      <td>NaN</td>\n",
       "      <td>S</td>\n",
       "      <td>1</td>\n",
       "    </tr>\n",
       "  </tbody>\n",
       "</table>\n",
       "</div>"
      ],
      "text/plain": [
       "   PassengerId  Survived  Pclass  \\\n",
       "0            1         0       3   \n",
       "1            2         1       1   \n",
       "2            3         1       3   \n",
       "3            4         1       1   \n",
       "4            5         0       3   \n",
       "\n",
       "                                                Name     Sex   Age  SibSp  \\\n",
       "0                            Braund, Mr. Owen Harris    male  22.0      1   \n",
       "1  Cumings, Mrs. John Bradley (Florence Briggs Th...  female  38.0      1   \n",
       "2                             Heikkinen, Miss. Laina  female  26.0      0   \n",
       "3       Futrelle, Mrs. Jacques Heath (Lily May Peel)  female  35.0      1   \n",
       "4                           Allen, Mr. William Henry    male  35.0      0   \n",
       "\n",
       "   Parch            Ticket     Fare Cabin Embarked  train_test  \n",
       "0      0         A/5 21171   7.2500   NaN        S           1  \n",
       "1      0          PC 17599  71.2833   C85        C           1  \n",
       "2      0  STON/O2. 3101282   7.9250   NaN        S           1  \n",
       "3      0            113803  53.1000  C123        S           1  \n",
       "4      0            373450   8.0500   NaN        S           1  "
      ]
     },
     "execution_count": 49,
     "metadata": {},
     "output_type": "execute_result"
    }
   ],
   "source": [
    "training.head()"
   ]
  },
  {
   "cell_type": "markdown",
   "id": "dd76e33f",
   "metadata": {},
   "source": [
    "- Cabin is a mix of leter and numbers, with a pattern\n",
    "- Ticket is also a mix of letters and numbers, but with a variety of formats\n",
    "- Name have given names, family names and titles"
   ]
  },
  {
   "cell_type": "code",
   "execution_count": 50,
   "id": "454843ea",
   "metadata": {},
   "outputs": [
    {
     "name": "stdout",
     "output_type": "stream",
     "text": [
      "Train columns with null values:\n",
      " PassengerId      0\n",
      "Survived         0\n",
      "Pclass           0\n",
      "Name             0\n",
      "Sex              0\n",
      "Age            177\n",
      "SibSp            0\n",
      "Parch            0\n",
      "Ticket           0\n",
      "Fare             0\n",
      "Cabin          687\n",
      "Embarked         2\n",
      "train_test       0\n",
      "dtype: int64\n",
      "----------\n",
      "Test/Validation columns with null values:\n",
      " PassengerId      0\n",
      "Pclass           0\n",
      "Name             0\n",
      "Sex              0\n",
      "Age             86\n",
      "SibSp            0\n",
      "Parch            0\n",
      "Ticket           0\n",
      "Fare             1\n",
      "Cabin          327\n",
      "Embarked         0\n",
      "train_test       0\n",
      "dtype: int64\n",
      "----------\n"
     ]
    }
   ],
   "source": [
    "# Missing data\n",
    "print('Train columns with null values:\\n', training.isnull().sum())\n",
    "print(\"-\"*10)\n",
    "\n",
    "print('Test/Validation columns with null values:\\n', test.isnull().sum())\n",
    "print(\"-\"*10)"
   ]
  },
  {
   "cell_type": "markdown",
   "id": "a4f60965",
   "metadata": {},
   "source": [
    "- In the train data, Cabin, Age and Embarked have null values\n",
    "- In the test data, Cabin, Age and Fare."
   ]
  },
  {
   "cell_type": "code",
   "execution_count": 51,
   "id": "9a0e6005",
   "metadata": {},
   "outputs": [
    {
     "name": "stdout",
     "output_type": "stream",
     "text": [
      "B96 B98            4\n",
      "G6                 4\n",
      "C23 C25 C27        4\n",
      "C22 C26            3\n",
      "F33                3\n",
      "F2                 3\n",
      "E101               3\n",
      "D                  3\n",
      "C78                2\n",
      "C93                2\n",
      "E8                 2\n",
      "D36                2\n",
      "B77                2\n",
      "C123               2\n",
      "E121               2\n",
      "E44                2\n",
      "D35                2\n",
      "C125               2\n",
      "E67                2\n",
      "B35                2\n",
      "B18                2\n",
      "E24                2\n",
      "B49                2\n",
      "C65                2\n",
      "B20                2\n",
      "B5                 2\n",
      "B57 B59 B63 B66    2\n",
      "C126               2\n",
      "B51 B53 B55        2\n",
      "F4                 2\n",
      "C124               2\n",
      "F G73              2\n",
      "B58 B60            2\n",
      "C52                2\n",
      "D33                2\n",
      "C68                2\n",
      "D20                2\n",
      "D26                2\n",
      "B28                2\n",
      "C83                2\n",
      "E25                2\n",
      "D17                2\n",
      "B22                2\n",
      "C92                2\n",
      "C2                 2\n",
      "E33                2\n",
      "C70                1\n",
      "E58                1\n",
      "A16                1\n",
      "C86                1\n",
      "D19                1\n",
      "D48                1\n",
      "A26                1\n",
      "B50                1\n",
      "A20                1\n",
      "C101               1\n",
      "A10                1\n",
      "A23                1\n",
      "E68                1\n",
      "D9                 1\n",
      "B41                1\n",
      "D50                1\n",
      "C85                1\n",
      "B71                1\n",
      "D49                1\n",
      "B42                1\n",
      "C50                1\n",
      "A24                1\n",
      "E17                1\n",
      "D28                1\n",
      "C47                1\n",
      "E49                1\n",
      "B69                1\n",
      "B102               1\n",
      "A36                1\n",
      "B82 B84            1\n",
      "D6                 1\n",
      "B3                 1\n",
      "F38                1\n",
      "E77                1\n",
      "D11                1\n",
      "D30                1\n",
      "C46                1\n",
      "D45                1\n",
      "B101               1\n",
      "B38                1\n",
      "C45                1\n",
      "C90                1\n",
      "C62 C64            1\n",
      "F G63              1\n",
      "B39                1\n",
      "E10                1\n",
      "C95                1\n",
      "B86                1\n",
      "C99                1\n",
      "B94                1\n",
      "C87                1\n",
      "D15                1\n",
      "A31                1\n",
      "B80                1\n",
      "B4                 1\n",
      "A32                1\n",
      "C49                1\n",
      "A7                 1\n",
      "B19                1\n",
      "D47                1\n",
      "D7                 1\n",
      "F E69              1\n",
      "C110               1\n",
      "D10 D12            1\n",
      "A5                 1\n",
      "E31                1\n",
      "B30                1\n",
      "B78                1\n",
      "A6                 1\n",
      "D56                1\n",
      "C103               1\n",
      "E46                1\n",
      "C118               1\n",
      "A19                1\n",
      "B73                1\n",
      "A34                1\n",
      "D46                1\n",
      "B79                1\n",
      "C30                1\n",
      "B37                1\n",
      "A14                1\n",
      "E63                1\n",
      "E12                1\n",
      "D21                1\n",
      "E38                1\n",
      "C111               1\n",
      "C104               1\n",
      "C82                1\n",
      "C106               1\n",
      "E50                1\n",
      "D37                1\n",
      "C128               1\n",
      "T                  1\n",
      "E40                1\n",
      "C91                1\n",
      "C32                1\n",
      "E34                1\n",
      "C7                 1\n",
      "C54                1\n",
      "E36                1\n",
      "C148               1\n",
      "Name: Cabin, dtype: int64\n"
     ]
    }
   ],
   "source": [
    "# Value Counts\n",
    "print(training['Cabin'].value_counts())"
   ]
  },
  {
   "cell_type": "markdown",
   "id": "15767656",
   "metadata": {},
   "source": [
    "### 3. Correcting\n",
    "Reviewing the data, there does not appear to be any aberrant or non-acceptable data inputs that we shoulf exclude from the dataset."
   ]
  },
  {
   "cell_type": "markdown",
   "id": "d4ae9752",
   "metadata": {},
   "source": [
    "### 4. Completing\n",
    "\n",
    "There are null values or missing data in the age, cabin, embarked field and fare (test data). \n",
    "Methodology:\n",
    "- Quantitative data: Median\n",
    "- Qualitative data: Mode\n",
    "\n",
    "Therefore, Age will be imputed with the median by sex and class, Fare will be imputed by median, Embark will be imputed with mode and Cabin will be imputed as 'U' for unknown and dropped the numbers. "
   ]
  },
  {
   "cell_type": "code",
   "execution_count": 52,
   "id": "1237042c",
   "metadata": {},
   "outputs": [],
   "source": [
    "#to clean both datasets at once:\n",
    "data_cleaner = [training, test]"
   ]
  },
  {
   "cell_type": "code",
   "execution_count": 53,
   "id": "627cde7a",
   "metadata": {},
   "outputs": [
    {
     "name": "stdout",
     "output_type": "stream",
     "text": [
      "U    687\n",
      "C     59\n",
      "B     47\n",
      "E     33\n",
      "D     33\n",
      "A     15\n",
      "F     12\n",
      "G      4\n",
      "T      1\n",
      "Name: Cabin, dtype: int64\n",
      "\n",
      "\n",
      "PassengerId    0\n",
      "Survived       0\n",
      "Pclass         0\n",
      "Name           0\n",
      "Sex            0\n",
      "Age            0\n",
      "SibSp          0\n",
      "Parch          0\n",
      "Ticket         0\n",
      "Fare           0\n",
      "Cabin          0\n",
      "Embarked       0\n",
      "train_test     0\n",
      "dtype: int64\n",
      "----------\n",
      "PassengerId    0\n",
      "Pclass         0\n",
      "Name           0\n",
      "Sex            0\n",
      "Age            0\n",
      "SibSp          0\n",
      "Parch          0\n",
      "Ticket         0\n",
      "Fare           0\n",
      "Cabin          0\n",
      "Embarked       0\n",
      "train_test     0\n",
      "dtype: int64\n"
     ]
    }
   ],
   "source": [
    "for dataset in data_cleaner:    \n",
    "    #complete missing age with median by Sex and Pclass\n",
    "    dataset['Age'] = dataset.groupby(['Sex', 'Pclass'])['Age'].apply(lambda x: x.fillna(x.median()))\n",
    "    \n",
    "    #complete missing fare with median\n",
    "    dataset['Fare'].fillna(dataset['Fare'].median(), inplace = True)\n",
    "    \n",
    "    #complete embarked with mode\n",
    "    dataset['Embarked'].fillna(dataset['Embarked'].mode()[0], inplace = True)\n",
    "    \n",
    "    #replace null cabin values with U (unknown)\n",
    "    dataset['Cabin'] = dataset['Cabin'].replace(np.nan, 'U')\n",
    "\n",
    "    #remove numbers from cabin column\n",
    "    dataset['Cabin'] = dataset['Cabin'].str.replace('\\d+','', regex=True)\n",
    "\n",
    "    dataset['Cabin'].loc[dataset['Cabin'].str.contains('B')] ='B'\n",
    "    dataset['Cabin'].loc[dataset['Cabin'].str.contains('C')] ='C'\n",
    "    dataset['Cabin'].loc[dataset['Cabin'].str.contains('D')] ='D'\n",
    "    dataset['Cabin'].loc[dataset['Cabin'].str.contains('E')] ='E'\n",
    "    dataset['Cabin'].loc[dataset['Cabin'].str.contains('F')] ='F'\n",
    "    dataset['Cabin'].loc[dataset['Cabin'].str.contains('G')] ='G'\n",
    "\n",
    "    \n",
    "print(training['Cabin'].value_counts())    \n",
    "print('\\n')    \n",
    "print(training.isnull().sum())\n",
    "print(\"-\"*10)\n",
    "print(test.isnull().sum())"
   ]
  },
  {
   "cell_type": "markdown",
   "id": "602a93cc",
   "metadata": {},
   "source": [
    "### 5. Charting\n",
    "\n",
    "First we separate the numerical data from the categorical data then do our exploratory analysis"
   ]
  },
  {
   "cell_type": "code",
   "execution_count": 54,
   "id": "cc488d95",
   "metadata": {},
   "outputs": [],
   "source": [
    "df_num = training[['Age', 'SibSp', 'Parch', 'Fare']]\n",
    "df_cat = training[['Survived', 'Pclass', 'Sex', 'Ticket', 'Cabin', 'Embarked']]"
   ]
  },
  {
   "cell_type": "markdown",
   "id": "0c875c38",
   "metadata": {},
   "source": [
    "##### Numeric"
   ]
  },
  {
   "cell_type": "code",
   "execution_count": 55,
   "id": "36eb8b98",
   "metadata": {},
   "outputs": [
    {
     "data": {
      "image/png": "[encoded data removed]",
      "text/plain": [
       "<Figure size 432x288 with 1 Axes>"
      ]
     },
     "metadata": {
      "needs_background": "light"
     },
     "output_type": "display_data"
    },
    {
     "data": {
      "image/png": "[encoded data removed]",
      "text/plain": [
       "<Figure size 432x288 with 1 Axes>"
      ]
     },
     "metadata": {
      "needs_background": "light"
     },
     "output_type": "display_data"
    },
    {
     "data": {
      "image/png": "[encoded data removed]",
      "text/plain": [
       "<Figure size 432x288 with 1 Axes>"
      ]
     },
     "metadata": {
      "needs_background": "light"
     },
     "output_type": "display_data"
    },
    {
     "data": {
      "image/png": "[encoded data removed]",
      "text/plain": [
       "<Figure size 432x288 with 1 Axes>"
      ]
     },
     "metadata": {
      "needs_background": "light"
     },
     "output_type": "display_data"
    }
   ],
   "source": [
    "# Distributions\n",
    "for i in df_num.columns:\n",
    "    plt.hist(df_num[i])\n",
    "    plt.title(i)\n",
    "    plt.show()"
   ]
  },
  {
   "cell_type": "markdown",
   "id": "965b8b93",
   "metadata": {},
   "source": [
    "- Age is already farely normal distributed\n",
    "- Fare we will probably have to be normalized"
   ]
  },
  {
   "cell_type": "code",
   "execution_count": 56,
   "id": "6acb12b9",
   "metadata": {},
   "outputs": [
    {
     "name": "stdout",
     "output_type": "stream",
     "text": [
      "            Age     SibSp     Parch      Fare\n",
      "Age    1.000000 -0.249854 -0.175526  0.122692\n",
      "SibSp -0.249854  1.000000  0.414838  0.159651\n",
      "Parch -0.175526  0.414838  1.000000  0.216225\n",
      "Fare   0.122692  0.159651  0.216225  1.000000\n"
     ]
    },
    {
     "data": {
      "text/plain": [
       "<AxesSubplot:>"
      ]
     },
     "execution_count": 56,
     "metadata": {},
     "output_type": "execute_result"
    },
    {
     "data": {
      "image/png": "[encoded data removed]",
      "text/plain": [
       "<Figure size 432x288 with 2 Axes>"
      ]
     },
     "metadata": {
      "needs_background": "light"
     },
     "output_type": "display_data"
    }
   ],
   "source": [
    "# Correlations\n",
    "print(df_num.corr())\n",
    "sns.heatmap(df_num.corr())"
   ]
  },
  {
   "cell_type": "markdown",
   "id": "06af24d7",
   "metadata": {},
   "source": [
    "- The number of parents and the number of siblings have a high positive correlation, indicates that families usually traveled together\n",
    "- Age and the number of children are very negative corrolated, which is intuitive. Same for Age and the number of parents.\n",
    "\n",
    "\n",
    "We want to avoid multicollinearity when using regression, which happens when there are two variables that are too highly correlated and they have a overwhelming effect on the model. We can create a new feature called family size that take parents and sibilings as one variable."
   ]
  },
  {
   "cell_type": "code",
   "execution_count": 57,
   "id": "535cbe66",
   "metadata": {},
   "outputs": [
    {
     "data": {
      "text/html": [
       "<div>\n",
       "<style scoped>\n",
       "    .dataframe tbody tr th:only-of-type {\n",
       "        vertical-align: middle;\n",
       "    }\n",
       "\n",
       "    .dataframe tbody tr th {\n",
       "        vertical-align: top;\n",
       "    }\n",
       "\n",
       "    .dataframe thead th {\n",
       "        text-align: right;\n",
       "    }\n",
       "</style>\n",
       "<table border=\"1\" class=\"dataframe\">\n",
       "  <thead>\n",
       "    <tr style=\"text-align: right;\">\n",
       "      <th></th>\n",
       "      <th>Age</th>\n",
       "      <th>Fare</th>\n",
       "      <th>Parch</th>\n",
       "      <th>SibSp</th>\n",
       "    </tr>\n",
       "    <tr>\n",
       "      <th>Survived</th>\n",
       "      <th></th>\n",
       "      <th></th>\n",
       "      <th></th>\n",
       "      <th></th>\n",
       "    </tr>\n",
       "  </thead>\n",
       "  <tbody>\n",
       "    <tr>\n",
       "      <th>0</th>\n",
       "      <td>29.737705</td>\n",
       "      <td>22.117887</td>\n",
       "      <td>0.329690</td>\n",
       "      <td>0.553734</td>\n",
       "    </tr>\n",
       "    <tr>\n",
       "      <th>1</th>\n",
       "      <td>28.108684</td>\n",
       "      <td>48.395408</td>\n",
       "      <td>0.464912</td>\n",
       "      <td>0.473684</td>\n",
       "    </tr>\n",
       "  </tbody>\n",
       "</table>\n",
       "</div>"
      ],
      "text/plain": [
       "                Age       Fare     Parch     SibSp\n",
       "Survived                                          \n",
       "0         29.737705  22.117887  0.329690  0.553734\n",
       "1         28.108684  48.395408  0.464912  0.473684"
      ]
     },
     "execution_count": 57,
     "metadata": {},
     "output_type": "execute_result"
    }
   ],
   "source": [
    "# Pivot table\n",
    "pd.pivot_table(training, index = 'Survived', values = ['Age','SibSp','Parch','Fare'])"
   ]
  },
  {
   "cell_type": "markdown",
   "id": "f9c3d530",
   "metadata": {},
   "source": [
    "The higher chance of survival appers to be of those who:\n",
    "- Are youger\n",
    "- Paid more\n",
    "- Have parents on board\n",
    "- Don't have sibilings or spouses on board"
   ]
  },
  {
   "cell_type": "markdown",
   "id": "1699b69f",
   "metadata": {},
   "source": [
    "##### Categorical"
   ]
  },
  {
   "cell_type": "code",
   "execution_count": 58,
   "id": "ecb38ab8",
   "metadata": {},
   "outputs": [
    {
     "data": {
      "image/png": "[encoded data removed]",
      "text/plain": [
       "<Figure size 432x288 with 1 Axes>"
      ]
     },
     "metadata": {
      "needs_background": "light"
     },
     "output_type": "display_data"
    },
    {
     "data": {
      "image/png": "[encoded data removed]",
      "text/plain": [
       "<Figure size 432x288 with 1 Axes>"
      ]
     },
     "metadata": {
      "needs_background": "light"
     },
     "output_type": "display_data"
    },
    {
     "data": {
      "image/png": "[encoded data removed]",
      "text/plain": [
       "<Figure size 432x288 with 1 Axes>"
      ]
     },
     "metadata": {
      "needs_background": "light"
     },
     "output_type": "display_data"
    },
    {
     "data": {
      "image/png": "[encoded data removed]",
      "text/plain": [
       "<Figure size 432x288 with 1 Axes>"
      ]
     },
     "metadata": {
      "needs_background": "light"
     },
     "output_type": "display_data"
    },
    {
     "data": {
      "image/png": "[encoded data removed]",
      "text/plain": [
       "<Figure size 432x288 with 1 Axes>"
      ]
     },
     "metadata": {
      "needs_background": "light"
     },
     "output_type": "display_data"
    },
    {
     "data": {
      "image/png": "[encoded data removed]",
      "text/plain": [
       "<Figure size 432x288 with 1 Axes>"
      ]
     },
     "metadata": {
      "needs_background": "light"
     },
     "output_type": "display_data"
    }
   ],
   "source": [
    "# Bar charts\n",
    "for i in df_cat.columns:\n",
    "    sns.barplot(x = df_cat[i].value_counts().index, y = df_cat[i].value_counts()).set_title(i)\n",
    "    plt.show()"
   ]
  },
  {
   "cell_type": "markdown",
   "id": "a8fdae68",
   "metadata": {},
   "source": [
    "- More people died than survived\n",
    "- There were more passengers on the 3rd class than the other two combined \n",
    "- There were more men than women\n",
    "- Most people embarked on the Southampton port"
   ]
  },
  {
   "cell_type": "code",
   "execution_count": 59,
   "id": "435a8205",
   "metadata": {},
   "outputs": [
    {
     "name": "stdout",
     "output_type": "stream",
     "text": [
      "Pclass         1       2       3     All\n",
      "Survived                                \n",
      "0          37.04   52.72   75.76   61.62\n",
      "1          62.96   47.28   24.24   38.38\n",
      "All       100.00  100.00  100.00  100.00\n",
      "\n",
      "\n",
      "Sex       female    male     All\n",
      "Survived                        \n",
      "0           25.8   81.11   61.62\n",
      "1           74.2   18.89   38.38\n",
      "All        100.0  100.00  100.00\n",
      "\n",
      "\n",
      "Embarked       C       Q      S     All\n",
      "Survived                               \n",
      "0          44.64   61.04   66.1   61.62\n",
      "1          55.36   38.96   33.9   38.38\n",
      "All       100.00  100.00  100.0  100.00\n"
     ]
    }
   ],
   "source": [
    "# Pivot table\n",
    "table_pclass = pd.pivot_table(training, index = 'Survived', columns = 'Pclass', values = 'Ticket' ,aggfunc ='count', margins=True)\n",
    "table_plclass = round(table_pclass.div(table_pclass.iloc[-1,:], axis=1)*100,2)\n",
    "print(table_plclass)\n",
    "print('\\n')\n",
    "\n",
    "table_sex = pd.pivot_table(training, index = 'Survived', columns = 'Sex', values = 'Ticket' ,aggfunc ='count', margins=True)\n",
    "table_sex = round(table_sex.div(table_sex.iloc[-1,:], axis=1)*100,2)\n",
    "print(table_sex)\n",
    "print('\\n')\n",
    "\n",
    "table_embarked = pd.pivot_table(training, index = 'Survived', columns = 'Embarked', values = 'Ticket' ,aggfunc ='count', margins=True)\n",
    "table_embarked = round(table_embarked.div(table_embarked.iloc[-1,:], axis=1)*100,2)\n",
    "print(table_embarked)"
   ]
  },
  {
   "cell_type": "markdown",
   "id": "62201c40",
   "metadata": {},
   "source": [
    "- First class people survived at a higher rate, specially when compared to the proporction of the 3rd class passengers\n",
    "- 74% of women survived vs. only 19% of men\n",
    "- Passengers that embarked through the French Cherbourg's port survived at a proportionately higher rate than the other two ports"
   ]
  },
  {
   "cell_type": "markdown",
   "id": "c9b2a5bc",
   "metadata": {},
   "source": [
    "### 6. Creating\n",
    "Feature engineering is when we use existing features to create new features to determine if they provide new signals to predict our outcome. For this dataset, we will \n",
    "- evaluate if different ticket types impact survival rates\n",
    "- create a title feature to determine if it played a role in survival.\n",
    "- create family size feature\n"
   ]
  },
  {
   "cell_type": "markdown",
   "id": "1d673648",
   "metadata": {},
   "source": [
    "##### Ticket"
   ]
  },
  {
   "cell_type": "code",
   "execution_count": 60,
   "id": "b290b2cf",
   "metadata": {},
   "outputs": [
    {
     "data": {
      "text/plain": [
       "1    661\n",
       "0    230\n",
       "Name: Numeric_ticket, dtype: int64"
      ]
     },
     "execution_count": 60,
     "metadata": {},
     "output_type": "execute_result"
    }
   ],
   "source": [
    "#numeric vs non numeric \n",
    "for dataset in data_cleaner:   \n",
    "    dataset['Numeric_ticket'] = dataset.Ticket.apply(lambda x: 1 if x.isnumeric() else 0)\n",
    "    dataset['Letters_ticket'] = dataset.Ticket.apply(lambda x: ''.join(x.split(' ')[:-1]).replace('.','').replace('/','').upper() if len(x.split(' ')[:-1]) >0 else 0)\n",
    "\n",
    "\n",
    "training['Numeric_ticket'].value_counts()"
   ]
  },
  {
   "cell_type": "code",
   "execution_count": 61,
   "id": "40077688",
   "metadata": {},
   "outputs": [
    {
     "data": {
      "text/plain": [
       "0            665\n",
       "PC            60\n",
       "CA            41\n",
       "A5            21\n",
       "STONO2        18\n",
       "SOTONOQ       15\n",
       "SCPARIS       11\n",
       "WC            10\n",
       "A4             7\n",
       "SOC            6\n",
       "FCC            5\n",
       "C              5\n",
       "SOPP           3\n",
       "PP             3\n",
       "WEP            3\n",
       "PPP            2\n",
       "SCAH           2\n",
       "SOTONO2        2\n",
       "SWPP           2\n",
       "FC             1\n",
       "SCAHBASLE      1\n",
       "AS             1\n",
       "SP             1\n",
       "SC             1\n",
       "SCOW           1\n",
       "FA             1\n",
       "SOP            1\n",
       "SCA4           1\n",
       "CASOTON        1\n",
       "Name: Letters_ticket, dtype: int64"
      ]
     },
     "execution_count": 61,
     "metadata": {},
     "output_type": "execute_result"
    }
   ],
   "source": [
    "pd.set_option(\"max_rows\", None)\n",
    "training['Letters_ticket'].value_counts()"
   ]
  },
  {
   "cell_type": "code",
   "execution_count": 62,
   "id": "4df5d382",
   "metadata": {},
   "outputs": [
    {
     "name": "stdout",
     "output_type": "stream",
     "text": [
      "Numeric_ticket       0       1     All\n",
      "Survived                              \n",
      "0                61.74   61.57   61.62\n",
      "1                38.26   38.43   38.38\n",
      "All             100.00  100.00  100.00\n"
     ]
    }
   ],
   "source": [
    "table_numeric_ticket = pd.pivot_table(training,index='Survived',columns='Numeric_ticket', values = 'Ticket', aggfunc='count', margins=True)\n",
    "table_numeric_ticket = round(table_numeric_ticket.div(table_numeric_ticket.iloc[-1,:], axis=1)*100,2)\n",
    "print(table_numeric_ticket)"
   ]
  },
  {
   "cell_type": "markdown",
   "id": "02fd7e8d",
   "metadata": {},
   "source": [
    "- It seems that these ratios are pretty similar so there isn't any value added by seperating the ticket category"
   ]
  },
  {
   "cell_type": "markdown",
   "id": "fb580c15",
   "metadata": {},
   "source": [
    "##### Title"
   ]
  },
  {
   "cell_type": "code",
   "execution_count": 63,
   "id": "0399e295",
   "metadata": {},
   "outputs": [
    {
     "data": {
      "text/plain": [
       "0                               Braund, Mr. Owen Harris\n",
       "1     Cumings, Mrs. John Bradley (Florence Briggs Th...\n",
       "2                                Heikkinen, Miss. Laina\n",
       "3          Futrelle, Mrs. Jacques Heath (Lily May Peel)\n",
       "4                              Allen, Mr. William Henry\n",
       "5                                      Moran, Mr. James\n",
       "6                               McCarthy, Mr. Timothy J\n",
       "7                        Palsson, Master. Gosta Leonard\n",
       "8     Johnson, Mrs. Oscar W (Elisabeth Vilhelmina Berg)\n",
       "9                   Nasser, Mrs. Nicholas (Adele Achem)\n",
       "10                      Sandstrom, Miss. Marguerite Rut\n",
       "11                             Bonnell, Miss. Elizabeth\n",
       "12                       Saundercock, Mr. William Henry\n",
       "13                          Andersson, Mr. Anders Johan\n",
       "14                 Vestrom, Miss. Hulda Amanda Adolfina\n",
       "15                     Hewlett, Mrs. (Mary D Kingcome) \n",
       "16                                 Rice, Master. Eugene\n",
       "17                         Williams, Mr. Charles Eugene\n",
       "18    Vander Planke, Mrs. Julius (Emelia Maria Vande...\n",
       "19                              Masselmani, Mrs. Fatima\n",
       "Name: Name, dtype: object"
      ]
     },
     "execution_count": 63,
     "metadata": {},
     "output_type": "execute_result"
    }
   ],
   "source": [
    "training.Name.head(20)"
   ]
  },
  {
   "cell_type": "code",
   "execution_count": 64,
   "id": "81ba1501",
   "metadata": {},
   "outputs": [
    {
     "data": {
      "text/html": [
       "<div>\n",
       "<style scoped>\n",
       "    .dataframe tbody tr th:only-of-type {\n",
       "        vertical-align: middle;\n",
       "    }\n",
       "\n",
       "    .dataframe tbody tr th {\n",
       "        vertical-align: top;\n",
       "    }\n",
       "\n",
       "    .dataframe thead th {\n",
       "        text-align: right;\n",
       "    }\n",
       "</style>\n",
       "<table border=\"1\" class=\"dataframe\">\n",
       "  <thead>\n",
       "    <tr style=\"text-align: right;\">\n",
       "      <th>Sex</th>\n",
       "      <th>female</th>\n",
       "      <th>male</th>\n",
       "    </tr>\n",
       "    <tr>\n",
       "      <th>Title</th>\n",
       "      <th></th>\n",
       "      <th></th>\n",
       "    </tr>\n",
       "  </thead>\n",
       "  <tbody>\n",
       "    <tr>\n",
       "      <th>Capt</th>\n",
       "      <td>0</td>\n",
       "      <td>1</td>\n",
       "    </tr>\n",
       "    <tr>\n",
       "      <th>Col</th>\n",
       "      <td>0</td>\n",
       "      <td>2</td>\n",
       "    </tr>\n",
       "    <tr>\n",
       "      <th>Don</th>\n",
       "      <td>0</td>\n",
       "      <td>1</td>\n",
       "    </tr>\n",
       "    <tr>\n",
       "      <th>Dr</th>\n",
       "      <td>1</td>\n",
       "      <td>6</td>\n",
       "    </tr>\n",
       "    <tr>\n",
       "      <th>Jonkheer</th>\n",
       "      <td>0</td>\n",
       "      <td>1</td>\n",
       "    </tr>\n",
       "    <tr>\n",
       "      <th>Lady</th>\n",
       "      <td>1</td>\n",
       "      <td>0</td>\n",
       "    </tr>\n",
       "    <tr>\n",
       "      <th>Major</th>\n",
       "      <td>0</td>\n",
       "      <td>2</td>\n",
       "    </tr>\n",
       "    <tr>\n",
       "      <th>Master</th>\n",
       "      <td>0</td>\n",
       "      <td>40</td>\n",
       "    </tr>\n",
       "    <tr>\n",
       "      <th>Miss</th>\n",
       "      <td>182</td>\n",
       "      <td>0</td>\n",
       "    </tr>\n",
       "    <tr>\n",
       "      <th>Mlle</th>\n",
       "      <td>2</td>\n",
       "      <td>0</td>\n",
       "    </tr>\n",
       "    <tr>\n",
       "      <th>Mme</th>\n",
       "      <td>1</td>\n",
       "      <td>0</td>\n",
       "    </tr>\n",
       "    <tr>\n",
       "      <th>Mr</th>\n",
       "      <td>0</td>\n",
       "      <td>517</td>\n",
       "    </tr>\n",
       "    <tr>\n",
       "      <th>Mrs</th>\n",
       "      <td>125</td>\n",
       "      <td>0</td>\n",
       "    </tr>\n",
       "    <tr>\n",
       "      <th>Ms</th>\n",
       "      <td>1</td>\n",
       "      <td>0</td>\n",
       "    </tr>\n",
       "    <tr>\n",
       "      <th>Rev</th>\n",
       "      <td>0</td>\n",
       "      <td>6</td>\n",
       "    </tr>\n",
       "    <tr>\n",
       "      <th>Sir</th>\n",
       "      <td>0</td>\n",
       "      <td>1</td>\n",
       "    </tr>\n",
       "    <tr>\n",
       "      <th>the Countess</th>\n",
       "      <td>1</td>\n",
       "      <td>0</td>\n",
       "    </tr>\n",
       "  </tbody>\n",
       "</table>\n",
       "</div>"
      ],
      "text/plain": [
       "Sex           female  male\n",
       "Title                     \n",
       "Capt               0     1\n",
       "Col                0     2\n",
       "Don                0     1\n",
       "Dr                 1     6\n",
       "Jonkheer           0     1\n",
       "Lady               1     0\n",
       "Major              0     2\n",
       "Master             0    40\n",
       "Miss             182     0\n",
       "Mlle               2     0\n",
       "Mme                1     0\n",
       "Mr                 0   517\n",
       "Mrs              125     0\n",
       "Ms                 1     0\n",
       "Rev                0     6\n",
       "Sir                0     1\n",
       "the Countess       1     0"
      ]
     },
     "execution_count": 64,
     "metadata": {},
     "output_type": "execute_result"
    }
   ],
   "source": [
    "for dataset in data_cleaner:\n",
    "    dataset['Title'] = dataset.Name.apply(lambda x: x.split(',')[1].split('.')[0].strip())\n",
    "\n",
    "pd.crosstab(training['Title'], training['Sex'])"
   ]
  },
  {
   "cell_type": "markdown",
   "id": "abc9189d",
   "metadata": {},
   "source": [
    "- We can maintain Miss, Mrs, Mr and Master\n",
    "- We can rename high ranking titles such as Dr, Military and Clergy as Noble\n",
    "- We can replace other titles as Rare"
   ]
  },
  {
   "cell_type": "code",
   "execution_count": 66,
   "id": "30d9e14c",
   "metadata": {},
   "outputs": [
    {
     "name": "stdout",
     "output_type": "stream",
     "text": [
      "Mr        517\n",
      "Miss      182\n",
      "Mrs       125\n",
      "Master     40\n",
      "Noble      21\n",
      "Rare        6\n",
      "Name: Title, dtype: int64\n"
     ]
    }
   ],
   "source": [
    "for dataset in data_cleaner:   \n",
    "    dataset['Title'] = dataset['Title'].replace(['Dr', 'Col', 'Major', 'Jonkheer', 'Capt', 'Sir', 'Don', 'Rev'], 'Noble')    \n",
    "    dataset['Title'] = dataset['Title'].replace(['Mlle', 'Lady', 'Mme', 'the Countess', 'Dona', 'Ms'], 'Rare')  \n",
    "\n",
    "print(training['Title'].value_counts())"
   ]
  },
  {
   "cell_type": "markdown",
   "id": "ca8d5d1e",
   "metadata": {},
   "source": [
    "##### Family size"
   ]
  },
  {
   "cell_type": "code",
   "execution_count": 67,
   "id": "4373854b",
   "metadata": {},
   "outputs": [],
   "source": [
    "for dataset in data_cleaner:    \n",
    "    dataset['FamilySize'] = dataset ['SibSp'] + dataset['Parch'] + 1\n",
    "\n",
    "    dataset['IsAlone'] = 1 #initialize to yes/1 is alone\n",
    "    dataset['IsAlone'].loc[dataset['FamilySize'] > 1] = 0 # now update to no/0 if family size is greater than 1"
   ]
  },
  {
   "cell_type": "markdown",
   "id": "992cc864",
   "metadata": {},
   "source": [
    "### 7. Converting"
   ]
  },
  {
   "cell_type": "code",
   "execution_count": 71,
   "id": "94cd7e68",
   "metadata": {},
   "outputs": [],
   "source": [
    "# Continuous variable bins\n",
    "for dataset in data_cleaner:    \n",
    "    dataset['FareBin'] = pd.qcut(dataset['Fare'], 4)\n",
    "    dataset['AgeBin'] = pd.cut(dataset['Age'].astype(int), 5)"
   ]
  },
  {
   "cell_type": "code",
   "execution_count": 70,
   "id": "87feef97",
   "metadata": {},
   "outputs": [],
   "source": [
    "# Categorical data encoding\n",
    "label = LabelEncoder()\n",
    "for dataset in data_cleaner:    \n",
    "    dataset['Sex_Code'] = label.fit_transform(dataset['Sex'])\n",
    "    dataset.Sex_Code = dataset.Sex_Code.astype(str)\n",
    "    dataset['Embarked_Code'] = label.fit_transform(dataset['Embarked'])\n",
    "    dataset.Embarked_Code = dataset.Embarked_Code.astype(str)\n",
    "    dataset['Title_Code'] = label.fit_transform(dataset['Title'])\n",
    "    dataset.Title_Code = dataset.Title_Code.astype(str)\n",
    "    dataset['AgeBin_Code'] = label.fit_transform(dataset['AgeBin'])\n",
    "    dataset.AgeBin_Code = dataset.AgeBin_Code.astype(str)\n",
    "    dataset['FareBin_Code'] = label.fit_transform(dataset['FareBin'])\n",
    "    dataset.FareBin_Code = dataset.FareBin_Code.astype(str)\n",
    "    dataset['Cabin_Code'] = label.fit_transform(dataset['Cabin'])\n",
    "    dataset.FareBin_Code = dataset.FareBin_Code.astype(str)"
   ]
  },
  {
   "cell_type": "code",
   "execution_count": 72,
   "id": "c9263b91",
   "metadata": {},
   "outputs": [
    {
     "name": "stdout",
     "output_type": "stream",
     "text": [
      "<class 'pandas.core.frame.DataFrame'>\n",
      "Int64Index: 1309 entries, 0 to 417\n",
      "Data columns (total 26 columns):\n",
      " #   Column          Non-Null Count  Dtype                   \n",
      "---  ------          --------------  -----                   \n",
      " 0   PassengerId     1309 non-null   int64                   \n",
      " 1   Survived        891 non-null    float64                 \n",
      " 2   Pclass          1309 non-null   int64                   \n",
      " 3   Name            1309 non-null   object                  \n",
      " 4   Sex             1309 non-null   object                  \n",
      " 5   Age             1309 non-null   float64                 \n",
      " 6   SibSp           1309 non-null   int64                   \n",
      " 7   Parch           1309 non-null   int64                   \n",
      " 8   Ticket          1309 non-null   object                  \n",
      " 9   Fare            1309 non-null   float64                 \n",
      " 10  Cabin           1309 non-null   object                  \n",
      " 11  Embarked        1309 non-null   object                  \n",
      " 12  train_test      1309 non-null   int64                   \n",
      " 13  Numeric_ticket  1309 non-null   int64                   \n",
      " 14  Letters_ticket  1309 non-null   object                  \n",
      " 15  Title           1309 non-null   object                  \n",
      " 16  FamilySize      1309 non-null   int64                   \n",
      " 17  IsAlone         1309 non-null   int64                   \n",
      " 18  FareBin         1309 non-null   interval[float64, right]\n",
      " 19  AgeBin          1309 non-null   interval[float64, right]\n",
      " 20  Sex_Code        1309 non-null   object                  \n",
      " 21  Embarked_Code   1309 non-null   object                  \n",
      " 22  Title_Code      1309 non-null   object                  \n",
      " 23  AgeBin_Code     1309 non-null   object                  \n",
      " 24  FareBin_Code    1309 non-null   object                  \n",
      " 25  Cabin_Code      1309 non-null   int32                   \n",
      "dtypes: float64(3), int32(1), int64(8), interval(2), object(12)\n",
      "memory usage: 291.5+ KB\n"
     ]
    }
   ],
   "source": [
    "all_data = pd.concat([training, test])\n",
    "all_data.info()"
   ]
  },
  {
   "cell_type": "code",
   "execution_count": 74,
   "id": "2e7ccaba",
   "metadata": {},
   "outputs": [],
   "source": [
    "all_dummies = all_data[['Pclass','FamilySize','IsAlone','Sex_Code','Embarked_Code','Title_Code','AgeBin_Code','FareBin_Code','Cabin_Code', 'train_test']]"
   ]
  },
  {
   "cell_type": "code",
   "execution_count": 75,
   "id": "7d7a8283",
   "metadata": {},
   "outputs": [],
   "source": [
    "X_train = all_dummies[all_dummies.train_test == 1].drop(['train_test'], axis =1)\n",
    "X_test = all_dummies[all_dummies.train_test == 0].drop(['train_test'], axis =1)\n",
    "\n",
    "y_train = all_data[all_data.train_test==1].Survived"
   ]
  },
  {
   "cell_type": "code",
   "execution_count": 80,
   "id": "1b8af0cb",
   "metadata": {},
   "outputs": [
    {
     "data": {
      "text/html": [
       "<div>\n",
       "<style scoped>\n",
       "    .dataframe tbody tr th:only-of-type {\n",
       "        vertical-align: middle;\n",
       "    }\n",
       "\n",
       "    .dataframe tbody tr th {\n",
       "        vertical-align: top;\n",
       "    }\n",
       "\n",
       "    .dataframe thead th {\n",
       "        text-align: right;\n",
       "    }\n",
       "</style>\n",
       "<table border=\"1\" class=\"dataframe\">\n",
       "  <thead>\n",
       "    <tr style=\"text-align: right;\">\n",
       "      <th></th>\n",
       "      <th>Pclass</th>\n",
       "      <th>FamilySize</th>\n",
       "      <th>IsAlone</th>\n",
       "      <th>Sex_Code</th>\n",
       "      <th>Embarked_Code</th>\n",
       "      <th>Title_Code</th>\n",
       "      <th>AgeBin_Code</th>\n",
       "      <th>FareBin_Code</th>\n",
       "      <th>Cabin_Code</th>\n",
       "    </tr>\n",
       "  </thead>\n",
       "  <tbody>\n",
       "    <tr>\n",
       "      <th>0</th>\n",
       "      <td>3</td>\n",
       "      <td>2</td>\n",
       "      <td>0</td>\n",
       "      <td>1</td>\n",
       "      <td>2</td>\n",
       "      <td>2</td>\n",
       "      <td>1</td>\n",
       "      <td>0</td>\n",
       "      <td>8</td>\n",
       "    </tr>\n",
       "    <tr>\n",
       "      <th>1</th>\n",
       "      <td>1</td>\n",
       "      <td>2</td>\n",
       "      <td>0</td>\n",
       "      <td>0</td>\n",
       "      <td>0</td>\n",
       "      <td>3</td>\n",
       "      <td>2</td>\n",
       "      <td>3</td>\n",
       "      <td>2</td>\n",
       "    </tr>\n",
       "    <tr>\n",
       "      <th>2</th>\n",
       "      <td>3</td>\n",
       "      <td>1</td>\n",
       "      <td>1</td>\n",
       "      <td>0</td>\n",
       "      <td>2</td>\n",
       "      <td>1</td>\n",
       "      <td>1</td>\n",
       "      <td>1</td>\n",
       "      <td>8</td>\n",
       "    </tr>\n",
       "    <tr>\n",
       "      <th>3</th>\n",
       "      <td>1</td>\n",
       "      <td>2</td>\n",
       "      <td>0</td>\n",
       "      <td>0</td>\n",
       "      <td>2</td>\n",
       "      <td>3</td>\n",
       "      <td>2</td>\n",
       "      <td>3</td>\n",
       "      <td>2</td>\n",
       "    </tr>\n",
       "    <tr>\n",
       "      <th>4</th>\n",
       "      <td>3</td>\n",
       "      <td>1</td>\n",
       "      <td>1</td>\n",
       "      <td>1</td>\n",
       "      <td>2</td>\n",
       "      <td>2</td>\n",
       "      <td>2</td>\n",
       "      <td>1</td>\n",
       "      <td>8</td>\n",
       "    </tr>\n",
       "  </tbody>\n",
       "</table>\n",
       "</div>"
      ],
      "text/plain": [
       "   Pclass  FamilySize  IsAlone Sex_Code Embarked_Code Title_Code AgeBin_Code  \\\n",
       "0       3           2        0        1             2          2           1   \n",
       "1       1           2        0        0             0          3           2   \n",
       "2       3           1        1        0             2          1           1   \n",
       "3       1           2        0        0             2          3           2   \n",
       "4       3           1        1        1             2          2           2   \n",
       "\n",
       "  FareBin_Code  Cabin_Code  \n",
       "0            0           8  \n",
       "1            3           2  \n",
       "2            1           8  \n",
       "3            3           2  \n",
       "4            1           8  "
      ]
     },
     "execution_count": 80,
     "metadata": {},
     "output_type": "execute_result"
    }
   ],
   "source": [
    "X_train.head()"
   ]
  },
  {
   "cell_type": "markdown",
   "id": "f98d0e3f",
   "metadata": {},
   "source": [
    "### 8. Comparing"
   ]
  },
  {
   "cell_type": "code",
   "execution_count": 122,
   "id": "0521b674",
   "metadata": {},
   "outputs": [
    {
     "name": "stdout",
     "output_type": "stream",
     "text": [
      "76.7\n"
     ]
    }
   ],
   "source": [
    "# Naive Bayes\n",
    "gnb = GaussianNB()\n",
    "cv_gnb = cross_val_score(gnb,X_train,y_train,cv=5)\n",
    "cv_gnb_mean = round(cv_gnb.mean(),3)*100 \n",
    "print(cv_gnb_mean)"
   ]
  },
  {
   "cell_type": "code",
   "execution_count": 121,
   "id": "b7fcc431",
   "metadata": {},
   "outputs": [
    {
     "name": "stdout",
     "output_type": "stream",
     "text": [
      "78.7\n"
     ]
    }
   ],
   "source": [
    "# Logistic Regression\n",
    "lr = LogisticRegression(max_iter = 2000)\n",
    "cv_lr = cross_val_score(lr,X_train,y_train,cv=5)\n",
    "cv_lr_mean = round(cv_lr.mean(),3)*100 \n",
    "print(cv_lr_mean)"
   ]
  },
  {
   "cell_type": "code",
   "execution_count": 120,
   "id": "109cc0aa",
   "metadata": {},
   "outputs": [
    {
     "name": "stdout",
     "output_type": "stream",
     "text": [
      "81.10000000000001\n"
     ]
    }
   ],
   "source": [
    "# Decision Tree\n",
    "dt = tree.DecisionTreeClassifier(random_state = 1)\n",
    "cv_dt = cross_val_score(dt,X_train,y_train,cv=5)\n",
    "cv_dt_mean = round(cv_dt.mean(),3)*100\n",
    "print(cv_dt_mean)"
   ]
  },
  {
   "cell_type": "code",
   "execution_count": 119,
   "id": "4d382c3d",
   "metadata": {},
   "outputs": [
    {
     "name": "stdout",
     "output_type": "stream",
     "text": [
      "78.0\n"
     ]
    }
   ],
   "source": [
    "# K Nearest Neighbor\n",
    "knn = KNeighborsClassifier()\n",
    "cv_knn = cross_val_score(knn,X_train,y_train,cv=5)\n",
    "cv_knn_mean = round(cv_knn.mean(),3)*100\n",
    "print(cv_knn_mean)"
   ]
  },
  {
   "cell_type": "code",
   "execution_count": 118,
   "id": "52887faf",
   "metadata": {},
   "outputs": [
    {
     "name": "stdout",
     "output_type": "stream",
     "text": [
      "81.6\n"
     ]
    }
   ],
   "source": [
    "# Random Forest\n",
    "rf = RandomForestClassifier(random_state = 1)\n",
    "cv_rf = cross_val_score(rf,X_train,y_train,cv=5)\n",
    "cv_rf_mean = round(cv_rf.mean(),3)*100\n",
    "print(cv_rf_mean)"
   ]
  },
  {
   "cell_type": "code",
   "execution_count": 117,
   "id": "3839a9a9",
   "metadata": {},
   "outputs": [
    {
     "name": "stdout",
     "output_type": "stream",
     "text": [
      "81.6\n"
     ]
    }
   ],
   "source": [
    "# Support Vector Classifier\n",
    "svc = SVC(probability = True)\n",
    "cv_svc = cross_val_score(svc,X_train,y_train,cv=5)\n",
    "cv_svc_mean = round(cv_svc.mean(),3)*100\n",
    "print(cv_svc_mean)"
   ]
  },
  {
   "cell_type": "code",
   "execution_count": 125,
   "id": "b34edf16",
   "metadata": {},
   "outputs": [
    {
     "data": {
      "text/html": [
       "<div>\n",
       "<style scoped>\n",
       "    .dataframe tbody tr th:only-of-type {\n",
       "        vertical-align: middle;\n",
       "    }\n",
       "\n",
       "    .dataframe tbody tr th {\n",
       "        vertical-align: top;\n",
       "    }\n",
       "\n",
       "    .dataframe thead th {\n",
       "        text-align: right;\n",
       "    }\n",
       "</style>\n",
       "<table border=\"1\" class=\"dataframe\">\n",
       "  <thead>\n",
       "    <tr style=\"text-align: right;\">\n",
       "      <th></th>\n",
       "      <th>Model</th>\n",
       "      <th>Score</th>\n",
       "    </tr>\n",
       "  </thead>\n",
       "  <tbody>\n",
       "    <tr>\n",
       "      <th>4</th>\n",
       "      <td>Random Forest</td>\n",
       "      <td>81.6</td>\n",
       "    </tr>\n",
       "    <tr>\n",
       "      <th>5</th>\n",
       "      <td>Support Vector Classifier</td>\n",
       "      <td>81.6</td>\n",
       "    </tr>\n",
       "    <tr>\n",
       "      <th>2</th>\n",
       "      <td>Decision Tree</td>\n",
       "      <td>81.1</td>\n",
       "    </tr>\n",
       "    <tr>\n",
       "      <th>1</th>\n",
       "      <td>Logistic Regression</td>\n",
       "      <td>78.7</td>\n",
       "    </tr>\n",
       "    <tr>\n",
       "      <th>3</th>\n",
       "      <td>K Nearest Neighbor</td>\n",
       "      <td>78.0</td>\n",
       "    </tr>\n",
       "    <tr>\n",
       "      <th>0</th>\n",
       "      <td>Naive Bayes</td>\n",
       "      <td>76.7</td>\n",
       "    </tr>\n",
       "  </tbody>\n",
       "</table>\n",
       "</div>"
      ],
      "text/plain": [
       "                       Model  Score\n",
       "4              Random Forest   81.6\n",
       "5  Support Vector Classifier   81.6\n",
       "2              Decision Tree   81.1\n",
       "1        Logistic Regression   78.7\n",
       "3         K Nearest Neighbor   78.0\n",
       "0                Naive Bayes   76.7"
      ]
     },
     "execution_count": 125,
     "metadata": {},
     "output_type": "execute_result"
    }
   ],
   "source": [
    "models = pd.DataFrame({\n",
    "    'Model': ['Naive Bayes', 'Logistic Regression', 'Decision Tree', \n",
    "              'K Nearest Neighbor', 'Random Forest', 'Support Vector Classifier'],\n",
    "    'Score': [cv_gnb_mean, cv_lr_mean, cv_dt_mean, \n",
    "              cv_knn_mean, cv_rf_mean, cv_svc_mean]})\n",
    "models.sort_values(by='Score', ascending=False)"
   ]
  },
  {
   "cell_type": "code",
   "execution_count": 144,
   "id": "55443224",
   "metadata": {},
   "outputs": [],
   "source": [
    "rf.fit(X_train, y_train)\n",
    "Y_pred = rf.predict(X_test).astype(int)"
   ]
  },
  {
   "cell_type": "code",
   "execution_count": 145,
   "id": "125c9857",
   "metadata": {},
   "outputs": [],
   "source": [
    "submission = pd.DataFrame({\n",
    "        \"PassengerId\": test[\"PassengerId\"],\n",
    "        \"Survived\": Y_pred\n",
    "    })"
   ]
  },
  {
   "cell_type": "code",
   "execution_count": 147,
   "id": "25fb8b9c",
   "metadata": {},
   "outputs": [
    {
     "data": {
      "text/html": [
       "<div>\n",
       "<style scoped>\n",
       "    .dataframe tbody tr th:only-of-type {\n",
       "        vertical-align: middle;\n",
       "    }\n",
       "\n",
       "    .dataframe tbody tr th {\n",
       "        vertical-align: top;\n",
       "    }\n",
       "\n",
       "    .dataframe thead th {\n",
       "        text-align: right;\n",
       "    }\n",
       "</style>\n",
       "<table border=\"1\" class=\"dataframe\">\n",
       "  <thead>\n",
       "    <tr style=\"text-align: right;\">\n",
       "      <th></th>\n",
       "      <th>PassengerId</th>\n",
       "      <th>Survived</th>\n",
       "    </tr>\n",
       "  </thead>\n",
       "  <tbody>\n",
       "    <tr>\n",
       "      <th>0</th>\n",
       "      <td>892</td>\n",
       "      <td>0</td>\n",
       "    </tr>\n",
       "    <tr>\n",
       "      <th>1</th>\n",
       "      <td>893</td>\n",
       "      <td>0</td>\n",
       "    </tr>\n",
       "    <tr>\n",
       "      <th>2</th>\n",
       "      <td>894</td>\n",
       "      <td>0</td>\n",
       "    </tr>\n",
       "    <tr>\n",
       "      <th>3</th>\n",
       "      <td>895</td>\n",
       "      <td>0</td>\n",
       "    </tr>\n",
       "    <tr>\n",
       "      <th>4</th>\n",
       "      <td>896</td>\n",
       "      <td>0</td>\n",
       "    </tr>\n",
       "  </tbody>\n",
       "</table>\n",
       "</div>"
      ],
      "text/plain": [
       "   PassengerId  Survived\n",
       "0          892         0\n",
       "1          893         0\n",
       "2          894         0\n",
       "3          895         0\n",
       "4          896         0"
      ]
     },
     "execution_count": 147,
     "metadata": {},
     "output_type": "execute_result"
    }
   ],
   "source": [
    "submission.head()"
   ]
  },
  {
   "cell_type": "code",
   "execution_count": 148,
   "id": "6ca18725",
   "metadata": {},
   "outputs": [],
   "source": [
    "submission.to_csv('submission.csv', index=False)"
   ]
  }
 ],
 "metadata": {
  "kernelspec": {
   "display_name": "Python 3 (ipykernel)",
   "language": "python",
   "name": "python3"
  },
  "language_info": {
   "codemirror_mode": {
    "name": "ipython",
    "version": 3
   },
   "file_extension": ".py",
   "mimetype": "text/x-python",
   "name": "python",
   "nbconvert_exporter": "python",
   "pygments_lexer": "ipython3",
   "version": "3.9.7"
  }
 },
 "nbformat": 4,
 "nbformat_minor": 5
}
